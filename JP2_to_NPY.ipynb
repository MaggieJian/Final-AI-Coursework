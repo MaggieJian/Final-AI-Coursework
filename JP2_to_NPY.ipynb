{
  "nbformat": 4,
  "nbformat_minor": 0,
  "metadata": {
    "colab": {
      "provenance": [],
      "authorship_tag": "ABX9TyPI4uu5UZiUtDk4piKPbxu6",
      "include_colab_link": true
    },
    "kernelspec": {
      "name": "python3",
      "display_name": "Python 3"
    },
    "language_info": {
      "name": "python"
    }
  },
  "cells": [
    {
      "cell_type": "markdown",
      "metadata": {
        "id": "view-in-github",
        "colab_type": "text"
      },
      "source": [
        "<a href=\"https://colab.research.google.com/github/MaggieJian/Final-AI-Coursework/blob/main/JP2_to_NPY.ipynb\" target=\"_parent\"><img src=\"https://colab.research.google.com/assets/colab-badge.svg\" alt=\"Open In Colab\"/></a>"
      ]
    },
    {
      "cell_type": "markdown",
      "source": [
        "# Use this colab book to convert .JP2 files downloaded directly from Copernicus to .npy files for using Docker and IRIS"
      ],
      "metadata": {
        "id": "mlhF7-CKODHX"
      }
    },
    {
      "cell_type": "markdown",
      "source": [
        "Mount your Google drive for file access"
      ],
      "metadata": {
        "id": "uMAqNZoIOVod"
      }
    },
    {
      "cell_type": "code",
      "execution_count": 1,
      "metadata": {
        "colab": {
          "base_uri": "https://localhost:8080/"
        },
        "id": "WVm3E-ahN_Sp",
        "outputId": "67575781-2fc8-46ac-ba8d-bbc310e28efb"
      },
      "outputs": [
        {
          "output_type": "stream",
          "name": "stdout",
          "text": [
            "Mounted at /content/drive\n"
          ]
        }
      ],
      "source": [
        "from google.colab import drive\n",
        "drive.mount('/content/drive')"
      ]
    },
    {
      "cell_type": "markdown",
      "source": [
        "Install dependancies"
      ],
      "metadata": {
        "id": "scxiY0JcOe8p"
      }
    },
    {
      "cell_type": "code",
      "source": [
        "!pip install rasterio numpy"
      ],
      "metadata": {
        "colab": {
          "base_uri": "https://localhost:8080/"
        },
        "id": "InzbZ1YvOYQh",
        "outputId": "aaa8120a-7bff-45be-87da-7b771461ba12"
      },
      "execution_count": 2,
      "outputs": [
        {
          "output_type": "stream",
          "name": "stdout",
          "text": [
            "Collecting rasterio\n",
            "  Downloading rasterio-1.3.10-cp310-cp310-manylinux2014_x86_64.whl (21.5 MB)\n",
            "\u001b[2K     \u001b[90m━━━━━━━━━━━━━━━━━━━━━━━━━━━━━━━━━━━━━━━━\u001b[0m \u001b[32m21.5/21.5 MB\u001b[0m \u001b[31m40.6 MB/s\u001b[0m eta \u001b[36m0:00:00\u001b[0m\n",
            "\u001b[?25hRequirement already satisfied: numpy in /usr/local/lib/python3.10/dist-packages (1.25.2)\n",
            "Collecting affine (from rasterio)\n",
            "  Downloading affine-2.4.0-py3-none-any.whl (15 kB)\n",
            "Requirement already satisfied: attrs in /usr/local/lib/python3.10/dist-packages (from rasterio) (23.2.0)\n",
            "Requirement already satisfied: certifi in /usr/local/lib/python3.10/dist-packages (from rasterio) (2024.2.2)\n",
            "Requirement already satisfied: click>=4.0 in /usr/local/lib/python3.10/dist-packages (from rasterio) (8.1.7)\n",
            "Requirement already satisfied: cligj>=0.5 in /usr/local/lib/python3.10/dist-packages (from rasterio) (0.7.2)\n",
            "Collecting snuggs>=1.4.1 (from rasterio)\n",
            "  Downloading snuggs-1.4.7-py3-none-any.whl (5.4 kB)\n",
            "Requirement already satisfied: click-plugins in /usr/local/lib/python3.10/dist-packages (from rasterio) (1.1.1)\n",
            "Requirement already satisfied: setuptools in /usr/local/lib/python3.10/dist-packages (from rasterio) (67.7.2)\n",
            "Requirement already satisfied: pyparsing>=2.1.6 in /usr/local/lib/python3.10/dist-packages (from snuggs>=1.4.1->rasterio) (3.1.2)\n",
            "Installing collected packages: snuggs, affine, rasterio\n",
            "Successfully installed affine-2.4.0 rasterio-1.3.10 snuggs-1.4.7\n"
          ]
        }
      ]
    },
    {
      "cell_type": "markdown",
      "source": [
        "Use rasterio to access the JP2 file"
      ],
      "metadata": {
        "id": "KImATz3cPKYM"
      }
    },
    {
      "cell_type": "code",
      "source": [
        "import rasterio\n",
        "\n",
        "# Change to your path, specifying which band to convert\n",
        "jp2_path = '/content/drive/MyDrive/AI4EO/Code to convert .JP2 files to .NPY/S2B_MSIL1C_20240509T031519_N0510_R118_T48NUG_20240509T054534.SAFE/GRANULE/L1C_T48NUG_A037467_20240509T033006/IMG_DATA/T48NUG_20240509T031519_B03.jp2'\n",
        "\n",
        "with rasterio.open(jp2_path) as src:\n",
        "    jp2_array = src.read()"
      ],
      "metadata": {
        "id": "HEViMa96OduB"
      },
      "execution_count": 15,
      "outputs": []
    },
    {
      "cell_type": "markdown",
      "source": [
        "Convert"
      ],
      "metadata": {
        "id": "tA0LXY97Pb5y"
      }
    },
    {
      "cell_type": "code",
      "source": [
        "import numpy as np\n",
        "\n",
        "np_array = np.array(jp2_array)"
      ],
      "metadata": {
        "id": "k5R0bWBBOdcE"
      },
      "execution_count": 16,
      "outputs": []
    },
    {
      "cell_type": "markdown",
      "source": [
        "Save to a new location"
      ],
      "metadata": {
        "id": "05J1_mb4Pd2g"
      }
    },
    {
      "cell_type": "code",
      "source": [
        "np.save('/content/drive/MyDrive/AI4EO/IRIS_upload_files/B03_Copernicus_image.npy', np_array)"
      ],
      "metadata": {
        "id": "PRyOspTRPf0a"
      },
      "execution_count": 17,
      "outputs": []
    },
    {
      "cell_type": "markdown",
      "source": [
        "Now you can go back to use Docker and the MYCONFIG.json code to open the satellite images on IRIS."
      ],
      "metadata": {
        "id": "nsfrcSWaP9VB"
      }
    }
  ]
}